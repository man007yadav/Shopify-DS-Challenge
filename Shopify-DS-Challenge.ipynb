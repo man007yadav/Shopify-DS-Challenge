{
 "cells": [
  {
   "cell_type": "markdown",
   "id": "9e7ea5c4-d8aa-40fa-8f8e-c26adc1bd750",
   "metadata": {},
   "source": [
    "## Shopify DS Intern Challenge"
   ]
  },
  {
   "cell_type": "code",
   "execution_count": null,
   "id": "969c5dc5-ad53-4055-befb-77ba06f30b8d",
   "metadata": {},
   "outputs": [],
   "source": [
    "import pandas as pd\n",
    "\n",
    "import numpy as np\n",
    "import matplotlib.pyplot as plt\n",
    "import seaborn as sns\n",
    "\n",
    "\n",
    "sns.set(style='whitegrid')\n",
    "fontTitledict={'fontsize':12,'weight':'bold','horizontalalignment':'center'}"
   ]
  },
  {
   "cell_type": "code",
   "execution_count": 2,
   "id": "a595c773-3805-4080-a580-97f00b3dad2b",
   "metadata": {},
   "outputs": [],
   "source": [
    "df = pd.read_csv('./data/2019 Winter Data Science Intern Challenge Data Set - Sheet1.csv')"
   ]
  },
  {
   "cell_type": "code",
   "execution_count": 3,
   "id": "8e9c486b-a8a4-42f7-bbc8-22322199dffb",
   "metadata": {},
   "outputs": [
    {
     "data": {
      "text/html": [
       "<div>\n",
       "<style scoped>\n",
       "    .dataframe tbody tr th:only-of-type {\n",
       "        vertical-align: middle;\n",
       "    }\n",
       "\n",
       "    .dataframe tbody tr th {\n",
       "        vertical-align: top;\n",
       "    }\n",
       "\n",
       "    .dataframe thead th {\n",
       "        text-align: right;\n",
       "    }\n",
       "</style>\n",
       "<table border=\"1\" class=\"dataframe\">\n",
       "  <thead>\n",
       "    <tr style=\"text-align: right;\">\n",
       "      <th></th>\n",
       "      <th>order_id</th>\n",
       "      <th>shop_id</th>\n",
       "      <th>user_id</th>\n",
       "      <th>order_amount</th>\n",
       "      <th>total_items</th>\n",
       "      <th>payment_method</th>\n",
       "      <th>created_at</th>\n",
       "    </tr>\n",
       "  </thead>\n",
       "  <tbody>\n",
       "    <tr>\n",
       "      <th>0</th>\n",
       "      <td>1</td>\n",
       "      <td>53</td>\n",
       "      <td>746</td>\n",
       "      <td>224</td>\n",
       "      <td>2</td>\n",
       "      <td>cash</td>\n",
       "      <td>2017-03-13 12:36:56</td>\n",
       "    </tr>\n",
       "    <tr>\n",
       "      <th>1</th>\n",
       "      <td>2</td>\n",
       "      <td>92</td>\n",
       "      <td>925</td>\n",
       "      <td>90</td>\n",
       "      <td>1</td>\n",
       "      <td>cash</td>\n",
       "      <td>2017-03-03 17:38:52</td>\n",
       "    </tr>\n",
       "    <tr>\n",
       "      <th>2</th>\n",
       "      <td>3</td>\n",
       "      <td>44</td>\n",
       "      <td>861</td>\n",
       "      <td>144</td>\n",
       "      <td>1</td>\n",
       "      <td>cash</td>\n",
       "      <td>2017-03-14 4:23:56</td>\n",
       "    </tr>\n",
       "    <tr>\n",
       "      <th>3</th>\n",
       "      <td>4</td>\n",
       "      <td>18</td>\n",
       "      <td>935</td>\n",
       "      <td>156</td>\n",
       "      <td>1</td>\n",
       "      <td>credit_card</td>\n",
       "      <td>2017-03-26 12:43:37</td>\n",
       "    </tr>\n",
       "    <tr>\n",
       "      <th>4</th>\n",
       "      <td>5</td>\n",
       "      <td>18</td>\n",
       "      <td>883</td>\n",
       "      <td>156</td>\n",
       "      <td>1</td>\n",
       "      <td>credit_card</td>\n",
       "      <td>2017-03-01 4:35:11</td>\n",
       "    </tr>\n",
       "  </tbody>\n",
       "</table>\n",
       "</div>"
      ],
      "text/plain": [
       "   order_id  shop_id  user_id  order_amount  total_items payment_method  \\\n",
       "0         1       53      746           224            2           cash   \n",
       "1         2       92      925            90            1           cash   \n",
       "2         3       44      861           144            1           cash   \n",
       "3         4       18      935           156            1    credit_card   \n",
       "4         5       18      883           156            1    credit_card   \n",
       "\n",
       "            created_at  \n",
       "0  2017-03-13 12:36:56  \n",
       "1  2017-03-03 17:38:52  \n",
       "2   2017-03-14 4:23:56  \n",
       "3  2017-03-26 12:43:37  \n",
       "4   2017-03-01 4:35:11  "
      ]
     },
     "execution_count": 3,
     "metadata": {},
     "output_type": "execute_result"
    }
   ],
   "source": [
    "df.head()"
   ]
  },
  {
   "cell_type": "code",
   "execution_count": 7,
   "id": "43265383-1cd5-4d98-9d48-144c872857a5",
   "metadata": {},
   "outputs": [
    {
     "name": "stdout",
     "output_type": "stream",
     "text": [
      "<class 'pandas.core.frame.DataFrame'>\n",
      "RangeIndex: 5000 entries, 0 to 4999\n",
      "Data columns (total 7 columns):\n",
      " #   Column          Non-Null Count  Dtype \n",
      "---  ------          --------------  ----- \n",
      " 0   order_id        5000 non-null   int64 \n",
      " 1   shop_id         5000 non-null   int64 \n",
      " 2   user_id         5000 non-null   int64 \n",
      " 3   order_amount    5000 non-null   int64 \n",
      " 4   total_items     5000 non-null   int64 \n",
      " 5   payment_method  5000 non-null   object\n",
      " 6   created_at      5000 non-null   object\n",
      "dtypes: int64(5), object(2)\n",
      "memory usage: 273.6+ KB\n"
     ]
    }
   ],
   "source": [
    "df.info()"
   ]
  },
  {
   "cell_type": "code",
   "execution_count": 9,
   "id": "15a91661-7a3e-403c-acd5-b6eda58b8cbc",
   "metadata": {},
   "outputs": [
    {
     "data": {
      "text/plain": [
       "'2017-03-01 0:08:09'"
      ]
     },
     "execution_count": 9,
     "metadata": {},
     "output_type": "execute_result"
    }
   ],
   "source": [
    "min(df['created_at'])"
   ]
  },
  {
   "cell_type": "code",
   "execution_count": 10,
   "id": "ea320734-3bdb-446a-970b-30308c614e32",
   "metadata": {},
   "outputs": [
    {
     "data": {
      "text/plain": [
       "'2017-03-30 9:55:00'"
      ]
     },
     "execution_count": 10,
     "metadata": {},
     "output_type": "execute_result"
    }
   ],
   "source": [
    "max(df['created_at'])"
   ]
  },
  {
   "cell_type": "code",
   "execution_count": 28,
   "id": "124ae507-1ac2-4e30-8ce3-304884a5f733",
   "metadata": {},
   "outputs": [
    {
     "data": {
      "text/plain": [
       "Text(0, 0.5, 'Frequency')"
      ]
     },
     "execution_count": 28,
     "metadata": {},
     "output_type": "execute_result"
    },
    {
     "data": {
      "image/png": "[encoded data removed]",
      "text/plain": [
       "<Figure size 432x288 with 1 Axes>"
      ]
     },
     "metadata": {},
     "output_type": "display_data"
    }
   ],
   "source": [
    "sns.histplot(df['order_amount'], kde=True, bins=2)\n",
    "plt.title('Histogram for Order Amount', fontsize=18)\n",
    "plt.xlabel('Order Amount', fontsize=16)\n",
    "plt.ylabel('Frequency', fontsize=16)"
   ]
  },
  {
   "cell_type": "code",
   "execution_count": 34,
   "id": "247cee3e-d508-45aa-b25e-ad808f32643d",
   "metadata": {},
   "outputs": [
    {
     "name": "stdout",
     "output_type": "stream",
     "text": [
      "Percentile for Order Amount\n",
      "==================================================\n",
      "0 percentile value is 90\n",
      "10 percentile value is 133\n",
      "20 percentile value is 156\n",
      "30 percentile value is 176\n",
      "40 percentile value is 236\n",
      "50 percentile value is 284\n",
      "60 percentile value is 322\n",
      "70 percentile value is 356\n",
      "80 percentile value is 444\n",
      "90 percentile value is 531\n",
      "100 percentile value is  704000\n"
     ]
    }
   ],
   "source": [
    "print('Percentile for Order Amount')\n",
    "print('=' * 50)\n",
    "for i in range(0,100,10):\n",
    "    var = df[\"order_amount\"].values\n",
    "    var = np.sort(var,axis = None)\n",
    "    print(\"{} percentile value is {}\".format(i,var[int(len(var)*(float(i)/100))]))\n",
    "print(\"100 percentile value is \",var[-1])"
   ]
  },
  {
   "cell_type": "code",
   "execution_count": 35,
   "id": "02e5f0ca-7a66-4602-b199-686e715deafc",
   "metadata": {},
   "outputs": [
    {
     "name": "stdout",
     "output_type": "stream",
     "text": [
      "90 - 100 Percentile for Order Amount\n",
      "==================================================\n",
      "90 percentile value is 531\n",
      "91 percentile value is 536\n",
      "92 percentile value is 561\n",
      "93 percentile value is 580\n",
      "94 percentile value is 596\n",
      "95 percentile value is 640\n",
      "96 percentile value is 692\n",
      "97 percentile value is 712\n",
      "98 percentile value is 804\n",
      "99 percentile value is 25725\n",
      "100 percentile value is  704000\n"
     ]
    }
   ],
   "source": [
    "print('90 - 100 Percentile for Order Amount')\n",
    "print('=' * 50)\n",
    "for i in range(90,100):\n",
    "    var = df[\"order_amount\"].values\n",
    "    var = np.sort(var,axis = None)\n",
    "    print(\"{} percentile value is {}\".format(i,var[int(len(var)*(float(i)/100))]))\n",
    "print(\"100 percentile value is \",var[-1])"
   ]
  },
  {
   "cell_type": "code",
   "execution_count": 37,
   "id": "2716b46a-15fe-46f6-8b3d-fb56525e68be",
   "metadata": {},
   "outputs": [
    {
     "name": "stdout",
     "output_type": "stream",
     "text": [
      "Average Order Value : 3145.128\n"
     ]
    }
   ],
   "source": [
    "print(f\"Average Order Value : {df['order_amount'].mean()}\")"
   ]
  },
  {
   "cell_type": "code",
   "execution_count": 38,
   "id": "c93e8d32-d4df-42c1-8d58-be20ec001dba",
   "metadata": {},
   "outputs": [
    {
     "name": "stdout",
     "output_type": "stream",
     "text": [
      "Median Order Value : 284.0\n"
     ]
    }
   ],
   "source": [
    "print(f\"Median Order Value : {df['order_amount'].median()}\")"
   ]
  },
  {
   "cell_type": "markdown",
   "id": "08df5bcd-511d-42e4-b509-c4064649404d",
   "metadata": {},
   "source": [
    "<b>Q1 a.</b> As we can see from the percentile value of order_amount, we see that about 98 percentile is around 800. However, there are lot of outlier for 98-100 percentile range.\n",
    "This skewed distribution values significantly impact the Average order value calulation. These outlier values might be source of incorrect data entries or some of the \n",
    "rare and limited edition might actually sell for that kind of range."
   ]
  },
  {
   "cell_type": "markdown",
   "id": "4fc39d44-011f-4dee-bda6-e899996d47b3",
   "metadata": {},
   "source": [
    "<b>Q1 b.</b> As the order value data has highly skewed values, if we are interested to know how much an average customer spends on sneakers, we can use the median (50th percentile)\n",
    "order value as another metric. This metric is robust to outlier values."
   ]
  },
  {
   "cell_type": "markdown",
   "id": "175f6a50-8698-4538-ae93-78db0f3dcfec",
   "metadata": {},
   "source": [
    "<b>Q1 c.</b> The median value of order_amount is 284.0"
   ]
  },
  {
   "cell_type": "markdown",
   "id": "3ab338b7-bd51-4730-b0c5-5216932b8e99",
   "metadata": {},
   "source": [
    "<b>Q2 a.</b> Ans 54"
   ]
  },
  {
   "cell_type": "code",
   "execution_count": null,
   "id": "09558c01-b91a-4deb-ad66-0e013035b50e",
   "metadata": {},
   "outputs": [],
   "source": [
    "SELECT COUNT(s.ShipperName) AS total_orders\n",
    "FROM Orders o\n",
    "INNER JOIN Shippers s\n",
    "\tON o.ShipperID = s.ShipperID\n",
    "WHERE s.ShipperName = 'Speedy Express';"
   ]
  },
  {
   "cell_type": "markdown",
   "id": "23337319-645e-4c74-80db-96249cbb54b4",
   "metadata": {},
   "source": [
    "<b>Q2 b.</b> Ans Peacock"
   ]
  },
  {
   "cell_type": "code",
   "execution_count": null,
   "id": "7898d9be-b0fa-4096-8737-c994694ef19c",
   "metadata": {},
   "outputs": [],
   "source": [
    "SELECT \n",
    "    Lastname\n",
    "FROM\n",
    "(SELECT\n",
    "\tEmployeeID,\n",
    "    MAX(total_orders)\n",
    "FROM\n",
    "(SELECT \n",
    "\tEmployeeID,\n",
    "    COUNT(EmployeeID) AS total_orders\n",
    "FROM Orders\n",
    "\tGROUP BY EmployeeID) employee_to_orders) max_order_employee\n",
    "INNER JOIN Employees e\n",
    "    ON e.EmployeeID = max_order_employee.EmployeeID;"
   ]
  },
  {
   "cell_type": "markdown",
   "id": "f2177cdb-21ad-4487-88aa-f253efec76f6",
   "metadata": {},
   "source": [
    "<b>Q2.c </b> Ans Gorgonzola Telino"
   ]
  },
  {
   "cell_type": "code",
   "execution_count": null,
   "id": "7a78b50b-1c48-4047-b8e0-5187bba58cce",
   "metadata": {},
   "outputs": [],
   "source": [
    "SELECT\n",
    "\tProductName\n",
    "FROM (SELECT \n",
    "\tp.ProductID,\n",
    "    p.ProductName,\n",
    "    MAX(total_num_orders)\n",
    "FROM\n",
    "(SELECT \n",
    "      ProductID,\n",
    "      COUNT(ProductID) AS total_num_orders\n",
    "  FROM\n",
    "    (SELECT *\n",
    "    FROM Orders o\n",
    "    INNER JOIN\n",
    "      (SELECT CustomerID,\n",
    "            Country\n",
    "      FROM Customers\n",
    "      WHERE Country = 'Germany') germany_customers\n",
    "    ON o.CustomerID = germany_customers.CustomerID\n",
    "    JOIN OrderDetails od\n",
    "    ON od.OrderID = o.OrderID) order_to_product\n",
    "  GROUP BY ProductID) product_to_total_orders\n",
    "  JOIN Products p\n",
    "  ON p.ProductID = product_to_total_orders.ProductID) max_product"
   ]
  },
  {
   "cell_type": "code",
   "execution_count": null,
   "id": "8ffad708-7186-46c7-892c-0cc6b43897c3",
   "metadata": {},
   "outputs": [],
   "source": []
  }
 ],
 "metadata": {
  "kernelspec": {
   "display_name": "Python 3",
   "language": "python",
   "name": "python3"
  },
  "language_info": {
   "codemirror_mode": {
    "name": "ipython",
    "version": 3
   },
   "file_extension": ".py",
   "mimetype": "text/x-python",
   "name": "python",
   "nbconvert_exporter": "python",
   "pygments_lexer": "ipython3",
   "version": "3.8.8"
  }
 },
 "nbformat": 4,
 "nbformat_minor": 5
}
